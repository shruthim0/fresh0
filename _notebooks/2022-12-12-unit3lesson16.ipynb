{
 "cells": [
  {
   "attachments": {},
   "cell_type": "markdown",
   "metadata": {},
   "source": [
    "# Unit 3 Lesson 16, Simulations"
   ]
  },
  {
   "attachments": {},
   "cell_type": "markdown",
   "metadata": {},
   "source": [
    "### Objectives \n",
    "\n",
    "1. Understand how computers can be used to represent real-world phenomena or outcomes\n",
    "2. Compare simulations with real-world contexts. \n",
    "3. Implement code to mimic real world situations, problems, or phenomena."
   ]
  },
  {
   "attachments": {},
   "cell_type": "markdown",
   "metadata": {},
   "source": [
    "### What are simulations?\n",
    "\n",
    "**Take notes on vocabulary terms and concepts!**\n",
    "\n",
    "- **Simulations** are abstractions that mimic more complex objects or phenomena from the real world\n",
    "    - Purposes include drawing inferences without the contraints of the real world \n",
    "- Simulations use varying sets of values to reflect the changing state of a real phenomenon\n",
    "- Often, when developing a simulation, it is necessary to remove specific details or simplify aspects      \n",
    "    - Simulations can often contain bias based on which details or real-world elements were included/excluded\n",
    "- Simulations allow the formulation of hypotheses under consideration\n",
    "- Variability and randomness of the world is considered using random number generators\n",
    "- Examples: rolling dice, spinners, molecular models, analyze chemicals/reactions...\n",
    "\n",
    "### Analyzing an Example: Air-Traffic Simulator\n",
    "\n",
    "Say we want to find out what the optimal number of aircrafts that can be in the air in one area is.\n",
    "\n",
    "- A simulation allows us to explore this question without real world contraints of money, time, safety\n",
    "    - Unfortunately we can't just fly 67 planes all at once and see what happens\n",
    "- Since the simulation won't be able to take all variables into control, it may have a bias towards one answer\n",
    "- Will not always have the same result"
   ]
  },
  {
   "attachments": {},
   "cell_type": "markdown",
   "metadata": {},
   "source": [
    "### Funtions/programs needed often when creating simulations"
   ]
  },
  {
   "cell_type": "code",
   "execution_count": null,
   "metadata": {},
   "outputs": [],
   "source": [
    "import random # a module that defines a series of functions for generating or manipulating random integers\n",
    "random.choice() #returns a randomly selected element from the specified sequence\n",
    "random.choice(mylist) # returns random value from list\n",
    "random.randint(0,10) #randomly selects an integer from given range; range in this case is from 0 to 10\n",
    "random.random() #will generate a random float between 0.0 to 1."
   ]
  },
  {
   "attachments": {},
   "cell_type": "markdown",
   "metadata": {},
   "source": [
    "### Try using these functions!\n",
    "\n",
    "1. trying out functions\n",
    "    - Randomly select select a number from 1-100, assign it to be x, and print it\n",
    "        - if you have time, add a user input box !\n",
    "2. Use the template and create a function that will choose one thing from a list of clothes to throw out\n",
    "    - Bonus: Add user input. User can deciede whether they want to \"add\" clothes to their closet, or \"trash\" something from their closet. If they chose \"add,\" then from a new list of clothes, randomly select one piece to append to myclothes. If they chose \"trash\" select one item from \"myclothes\" to throw out."
   ]
  },
  {
   "cell_type": "code",
   "execution_count": null,
   "metadata": {},
   "outputs": [],
   "source": [
    "#1"
   ]
  },
  {
   "cell_type": "code",
   "execution_count": null,
   "metadata": {},
   "outputs": [],
   "source": [
    "#2\n",
    "def mycloset():\n",
    "    myclothes = [\"red shoes\", \"green pants\", \"tie\", \"belt\"]"
   ]
  },
  {
   "attachments": {},
   "cell_type": "markdown",
   "metadata": {},
   "source": [
    "### Check-in\n",
    "\n",
    "With your teams discuss what could be the answer for the question below. Once you think you have the right answer, raise your hand and explain why you think the answer you have chosen is correct. If you get the correct answer, you get a reward :)\n",
    "\n",
    "Question: \n",
    "The following code simulates the feeding of 4 fish in an aquarium while the owner is on a 5-day trip:\n",
    "\n",
    "numFish ← 4\n",
    "\n",
    "foodPerDay ← 20\n",
    "\n",
    "foodLeft ← 160\n",
    "\n",
    "daysStarving ← 0\n",
    "\n",
    "REPEAT 5 TIMES {\n",
    "   \n",
    "    foodConsumed ← numFish * foodPerDay\n",
    "  \n",
    "    foodLeft ← foodLeft - foodConsumed\n",
    "  \n",
    "    IF (foodLeft < 0) {\n",
    " \n",
    "        daysStarving ← daysStarving + 1\n",
    " \n",
    "    }\n",
    "}\n",
    "\n",
    "*Why is this simulation considered an abstraction?*\n",
    "\n",
    "- 1: It uses a conditional to execute one part of the code only when a particular condition is met.\n",
    "- 2: It uses a REPEAT loop to run the same block of code multiple times.\n",
    "- 3: It simplifies a real-world scenario into something that can be modeled in code and executed on a computer.\n",
    "- 4: It does not request input from the user or display output to the user."
   ]
  },
  {
   "attachments": {},
   "cell_type": "markdown",
   "metadata": {},
   "source": [
    "### Let's look at an example: Coin Flip"
   ]
  },
  {
   "cell_type": "code",
   "execution_count": 1,
   "metadata": {},
   "outputs": [
    {
     "name": "stdout",
     "output_type": "stream",
     "text": [
      "Heads\n",
      "Heads\n",
      "Heads\n",
      "Tails\n",
      "Heads\n"
     ]
    }
   ],
   "source": [
    "import random\n",
    "\n",
    "def coinflip():         #def function \n",
    "    randomflip = random.randint(0, 1) #picks either 0 or 1 randomly (50/50 chance of either) \n",
    "    if randomflip == 0: #assigning 0 to be heads--> if 0 is chosen then it will print, \"Heads\"\n",
    "        print(\"Heads\")\n",
    "    else:\n",
    "        if randomflip == 1: #assigning 1 to be tails--> if 1 is chosen then it will print, \"Tails\"\n",
    "            print(\"Tails\")\n",
    "\n",
    "#Tossing the coin 5 times:\n",
    "t1 = coinflip()\n",
    "t2 = coinflip()\n",
    "t3 = coinflip()\n",
    "t4 = coinflip()\n",
    "t5 = coinflip()"
   ]
  },
  {
   "attachments": {},
   "cell_type": "markdown",
   "metadata": {},
   "source": [
    "Activity: Change the code below so that instead of using a fair coin, a weighted coin is flipped. THis means there is no longer an equal chance that either heads of tails will be flipped. Let's say there is a 2/3 chance of heads and only 1/3 chance of tails.\n",
    "\n",
    "Hint: maybe you can increase the range of integers?"
   ]
  },
  {
   "cell_type": "code",
   "execution_count": null,
   "metadata": {},
   "outputs": [],
   "source": [
    "# unfair coin"
   ]
  },
  {
   "attachments": {},
   "cell_type": "markdown",
   "metadata": {},
   "source": [
    "### Using Binary for Simulations \n",
    "\n",
    "jiya"
   ]
  },
  {
   "cell_type": "code",
   "execution_count": null,
   "metadata": {},
   "outputs": [],
   "source": [
    "# example simulation that uses binary"
   ]
  },
  {
   "attachments": {},
   "cell_type": "markdown",
   "metadata": {},
   "source": [
    "Explanation of ^^"
   ]
  },
  {
   "attachments": {},
   "cell_type": "markdown",
   "metadata": {},
   "source": [
    "### Hacks\n",
    "Shruthi, Noor, Ananya"
   ]
  },
  {
   "attachments": {},
   "cell_type": "markdown",
   "metadata": {},
   "source": [
    "Hack #1: Create an algorithm that will flip a dice"
   ]
  },
  {
   "attachments": {},
   "cell_type": "markdown",
   "metadata": {},
   "source": [
    "Hack #2: Using the questions bank below, create a quiz that presents the user a random question and calculates the user's score. You can use the template below or make your own. Making your own using a loop can give you extra point. "
   ]
  },
  {
   "cell_type": "code",
   "execution_count": null,
   "metadata": {},
   "outputs": [],
   "source": [
    "questions = 4\n",
    "correct = 0\n",
    "\n",
    "\n",
    "Q1 = input()\n",
    "if Q1 == :\n",
    "    \n",
    "\n",
    "Q2 = input()\n",
    "if Q2 == :\n",
    "   \n",
    "Q3 = input()\n",
    "if Q3 == :\n",
    "   \n",
    "\n",
    "Q4 = input()\n",
    "\n",
    "\n",
    "\n",
    "\n",
    "print( \" you scored \" + str(correct) +\"/\" + str(questions))"
   ]
  },
  {
   "attachments": {},
   "cell_type": "markdown",
   "metadata": {},
   "source": [
    "Hack #3: Create your own simulation based on a randomized real-world scenario. What would you want to simulate? (cannot be the coins, dice, closet or other previous examples)"
   ]
  },
  {
   "cell_type": "code",
   "execution_count": null,
   "metadata": {},
   "outputs": [],
   "source": []
  }
 ],
 "metadata": {
  "kernelspec": {
   "display_name": "Python 3",
   "language": "python",
   "name": "python3"
  },
  "language_info": {
   "codemirror_mode": {
    "name": "ipython",
    "version": 3
   },
   "file_extension": ".py",
   "mimetype": "text/x-python",
   "name": "python",
   "nbconvert_exporter": "python",
   "pygments_lexer": "ipython3",
   "version": "3.8.10"
  },
  "orig_nbformat": 4,
  "vscode": {
   "interpreter": {
    "hash": "916dbcbb3f70747c44a77c7bcd40155683ae19c65e1c03b4aa3499c5328201f1"
   }
  }
 },
 "nbformat": 4,
 "nbformat_minor": 2
}
